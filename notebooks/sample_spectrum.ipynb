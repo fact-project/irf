{
 "cells": [
  {
   "cell_type": "code",
   "execution_count": 1,
   "metadata": {
    "ExecuteTime": {
     "end_time": "2018-02-17T18:17:16.892035Z",
     "start_time": "2018-02-17T18:17:15.389684Z"
    }
   },
   "outputs": [],
   "source": [
    "# import emcee\n",
    "import matplotlib.pyplot as plt\n",
    "import scipy.stats\n",
    "from scipy import interpolate\n",
    "from scipy import integrate\n",
    "import numpy as np\n",
    "#import corner\n",
    "%matplotlib inline\n",
    "np.random.seed(1)"
   ]
  },
  {
   "cell_type": "markdown",
   "metadata": {
    "ExecuteTime": {
     "end_time": "2018-02-17T16:20:51.092364Z",
     "start_time": "2018-02-17T16:20:51.037538Z"
    }
   },
   "source": [
    "area_f = integrate.simps(f(x), x)\n",
    "area_e = integrate.simps(power_law(x), x)\n",
    "\n",
    "p1 = f(x)/area_f\n",
    "p2 = power_law(x)/area_e\n",
    "c = np.convolve(p1, p2, mode='same')\n",
    "\n",
    "plt.plot(x, f(x)/area_f, '.')\n",
    "plt.plot(x, power_law(x)/area_e, '.')\n",
    "plt.yscale('log')\n",
    "plt.xscale('log')"
   ]
  },
  {
   "cell_type": "code",
   "execution_count": 2,
   "metadata": {
    "ExecuteTime": {
     "end_time": "2018-02-17T18:17:19.636782Z",
     "start_time": "2018-02-17T18:17:16.899764Z"
    }
   },
   "outputs": [],
   "source": [
    "from irf import power_law\n",
    "import astropy.units as u"
   ]
  },
  {
   "cell_type": "code",
   "execution_count": 3,
   "metadata": {
    "ExecuteTime": {
     "end_time": "2018-02-17T18:17:20.024584Z",
     "start_time": "2018-02-17T18:17:19.656943Z"
    }
   },
   "outputs": [],
   "source": [
    "crab = power_law.CrabSpectrum()\n",
    "e_min = 10*u.GeV\n",
    "e_max = 200*u.TeV\n",
    "t_obs = 1*u.h\n",
    "area = 1*u.km**2\n",
    "\n",
    "bins=np.logspace(-2, 2, 40, base=10)\n",
    "centers = bins[0:-1]+np.diff(bins)/2\n",
    "\n",
    "N = crab.expected_events(e_min, e_max, area, t_obs)\n",
    "\n",
    "samples = crab.draw_energy_distribution(e_min=10*u.GeV, e_max=200*u.TeV, shape=int(N))"
   ]
  },
  {
   "cell_type": "code",
   "execution_count": 4,
   "metadata": {
    "ExecuteTime": {
     "end_time": "2018-02-17T18:17:22.084275Z",
     "start_time": "2018-02-17T18:17:20.028970Z"
    }
   },
   "outputs": [
    {
     "data": {
      "image/png": "[encoded data removed]",
      "text/plain": [
       "<matplotlib.figure.Figure at 0x10e86e320>"
      ]
     },
     "metadata": {},
     "output_type": "display_data"
    }
   ],
   "source": [
    "def acceptance_function():\n",
    "    a = [0 , 0.0, 0.02,   0.2, 0.82, 0.95, 0.4]\n",
    "    e = 10**np.array([-2, -1.5 , -1  ,  -0.5, 0   , 1   , 2])\n",
    "    return interpolate.interp1d(e, a)\n",
    "\n",
    "acceptance_prob = acceptance_function()\n",
    "\n",
    "e = np.logspace(-2, 2, 100)\n",
    "plt.plot(e, acceptance_prob(e), '.')\n",
    "plt.xscale('log')\n",
    "plt.yscale('log')"
   ]
  },
  {
   "cell_type": "code",
   "execution_count": 6,
   "metadata": {
    "ExecuteTime": {
     "end_time": "2018-02-17T18:17:43.318070Z",
     "start_time": "2018-02-17T18:17:41.171068Z"
    },
    "scrolled": false
   },
   "outputs": [
    {
     "data": {
      "image/png": "[encoded data removed]",
      "text/plain": [
       "<matplotlib.figure.Figure at 0x110ffef28>"
      ]
     },
     "metadata": {},
     "output_type": "display_data"
    }
   ],
   "source": [
    "\n",
    "def apply_acceptance(samples, acceptance_prob):\n",
    "    m  = np.random.uniform(0, 1, size=len(samples)) < acceptance_prob(samples)\n",
    "    return samples[m]\n",
    "    \n",
    "triggered_samples = apply_acceptance(samples, acceptance_prob)\n",
    "\n",
    "plt.hist(triggered_samples, bins=bins, histtype='step')\n",
    "plt.hist(samples, bins=bins, histtype='step')\n",
    "#plt.plot(centers, expected_events, '.')\n",
    "plt.yscale('log')\n",
    "plt.xscale('log')"
   ]
  },
  {
   "cell_type": "markdown",
   "metadata": {},
   "source": [
    "Try and forward fold a model."
   ]
  },
  {
   "cell_type": "code",
   "execution_count": 22,
   "metadata": {
    "ExecuteTime": {
     "end_time": "2018-02-17T18:30:24.652461Z",
     "start_time": "2018-02-17T18:30:22.942069Z"
    }
   },
   "outputs": [
    {
     "data": {
      "image/png": "[encoded data removed]",
      "text/plain": [
       "<matplotlib.figure.Figure at 0x1111f9ef0>"
      ]
     },
     "metadata": {},
     "output_type": "display_data"
    }
   ],
   "source": [
    "model = power_law.CrabSpectrum()\n",
    "\n",
    "c_expected, edges  = model.expected_events_for_bins(e_min, e_max, area, t_obs, bins=bins*u.TeV)\n",
    "c_measured, edges  = np.histogram(triggered_samples, bins=bins)\n",
    "\n",
    "c_folded = c_expected * acceptance_prob(centers)\n",
    "\n",
    "plt.plot(centers, c_expected, '.' )\n",
    "plt.plot(centers, c_measured, '.')\n",
    "plt.plot(centers, c_folded, '.')\n",
    "\n",
    "plt.yscale('log')\n",
    "plt.xscale('log')"
   ]
  },
  {
   "cell_type": "code",
   "execution_count": 49,
   "metadata": {
    "ExecuteTime": {
     "end_time": "2018-02-18T19:33:37.364291Z",
     "start_time": "2018-02-18T19:33:37.287842Z"
    }
   },
   "outputs": [],
   "source": [
    "def likelihood(A, index, data):\n",
    "    \n",
    "    if A < 0.9 or A > 1.1:\n",
    "        return -np.inf\n",
    "    if index < -3 or index > -2:\n",
    "        return -np.inf \n",
    "    \n",
    "    c_measured, edges  = np.histogram(data, bins=bins)\n",
    "    \n",
    "    model = power_law.Spectrum(index=index, normalization_constant=A*1/(u.GeV * u.km**2 * u.h))\n",
    "    c_expected, edges  = model.expected_events_for_bins(e_min, e_max, area, t_obs, bins=bins*u.TeV)\n",
    "    c_folded = c_expected * acceptance_prob(centers)\n",
    "    \n",
    "    g = (c_folded - c_measured)**2 / c_folded\n",
    "    g[g==np.inf] = 0\n",
    "    g  = np.nan_to_num(g)\n",
    "    chi_square = np.sum(g)\n",
    "    return -0.5 * chi_square\n",
    " \n"
   ]
  },
  {
   "cell_type": "code",
   "execution_count": 50,
   "metadata": {
    "ExecuteTime": {
     "end_time": "2018-02-18T19:33:38.088330Z",
     "start_time": "2018-02-18T19:33:37.509682Z"
    }
   },
   "outputs": [
    {
     "name": "stdout",
     "output_type": "stream",
     "text": [
      "1.0188000000000001 1 / (GeV h km2)\n"
     ]
    },
    {
     "name": "stderr",
     "output_type": "stream",
     "text": [
      "/usr/local/lib/python3.6/site-packages/ipykernel_launcher.py:14: RuntimeWarning: divide by zero encountered in true_divide\n",
      "  \n",
      "/usr/local/lib/python3.6/site-packages/ipykernel_launcher.py:14: RuntimeWarning: invalid value encountered in true_divide\n",
      "  \n"
     ]
    },
    {
     "data": {
      "text/plain": [
       "-22.862488683391852"
      ]
     },
     "execution_count": 50,
     "metadata": {},
     "output_type": "execute_result"
    }
   ],
   "source": [
    "index = -2.62\n",
    "A = (2.83e-14 / (u.GeV * u.cm**2 * u.s)).to(1/(u.GeV * u.km**2 * u.h))\n",
    "likelihood(A.value, index, data=triggered_samples)"
   ]
  },
  {
   "cell_type": "code",
   "execution_count": null,
   "metadata": {},
   "outputs": [],
   "source": []
  }
 ],
 "metadata": {
  "kernelspec": {
   "display_name": "Python 3",
   "language": "python",
   "name": "python3"
  },
  "language_info": {
   "codemirror_mode": {
    "name": "ipython",
    "version": 3
   },
   "file_extension": ".py",
   "mimetype": "text/x-python",
   "name": "python",
   "nbconvert_exporter": "python",
   "pygments_lexer": "ipython3",
   "version": "3.6.4"
  }
 },
 "nbformat": 4,
 "nbformat_minor": 2
}
