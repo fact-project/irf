{
 "cells": [
  {
   "cell_type": "code",
   "execution_count": 9,
   "metadata": {
    "ExecuteTime": {
     "end_time": "2018-02-21T17:50:50.820653Z",
     "start_time": "2018-02-21T17:50:50.810901Z"
    }
   },
   "outputs": [],
   "source": [
    "from astropy.table import Table\n",
    "import numpy as np\n",
    "import astropy.units as u\n",
    "import matplotlib.pyplot as plt\n",
    "import fact.io as fio\n",
    "from irf import irf_from_table, EffectiveArea, EnergyDispersion\n",
    "%matplotlib inline"
   ]
  },
  {
   "cell_type": "code",
   "execution_count": 10,
   "metadata": {
    "ExecuteTime": {
     "end_time": "2018-02-21T17:50:51.382364Z",
     "start_time": "2018-02-21T17:50:50.963433Z"
    }
   },
   "outputs": [
    {
     "data": {
      "text/plain": [
       "[<matplotlib.lines.Line2D at 0x1107250b8>]"
      ]
     },
     "execution_count": 10,
     "metadata": {},
     "output_type": "execute_result"
    },
    {
     "data": {
      "image/png": "[encoded data removed]",
      "text/plain": [
       "<matplotlib.figure.Figure at 0x119411048>"
      ]
     },
     "metadata": {},
     "output_type": "display_data"
    }
   ],
   "source": [
    "table = Table.read('../fact_irf.fits', hdu='EFFECTIVE AREA')\n",
    "grid, data =  irf_from_table(table, interpolation_modes={'ENERG':'log'})\n",
    "aeff = EffectiveArea(grid, data)\n",
    "bin_centers = aeff.grid[0].to('TeV')\n",
    "\n",
    "aeff.data[:, 0]\n",
    "aeff.grid[0]\n",
    "# area = aeff.evaluate(bin_centers*u.TeV, theta=1.51*u.deg).to('km^2')\n",
    "plt.plot(bin_centers, aeff.data[:, 0], '.')\n",
    "x = np.linspace(0, 50, 600)\n",
    "area = aeff.evaluate(x * u.TeV, theta=0*u.deg)\n",
    "plt.plot(x, aeff.evaluate(x * u.TeV, theta=0*u.deg), '.')\n"
   ]
  },
  {
   "cell_type": "code",
   "execution_count": 17,
   "metadata": {
    "ExecuteTime": {
     "end_time": "2018-02-21T17:53:00.896754Z",
     "start_time": "2018-02-21T17:53:00.881557Z"
    }
   },
   "outputs": [],
   "source": [
    "bins = aeff.grid[0].to('TeV')\n",
    "\n",
    "def expected_events_in_bins(index, bins):\n",
    "    events_per_time_and_area = np.array([expected_events_in_range(index, m, n) for m, n in zip(bins[0:], bins[1:])])\n",
    "    return events_per_time_and_area\n",
    "\n",
    "def expected_events_in_range(index, e_low, e_high):\n",
    "    return (1 / (index + 1)) * (e_high**(index + 1) - e_low**(index + 1))"
   ]
  },
  {
   "cell_type": "code",
   "execution_count": 27,
   "metadata": {
    "ExecuteTime": {
     "end_time": "2018-02-21T17:56:00.763807Z",
     "start_time": "2018-02-21T17:55:59.781632Z"
    }
   },
   "outputs": [
    {
     "data": {
      "text/plain": [
       "<matplotlib.legend.Legend at 0x119f36f98>"
      ]
     },
     "execution_count": 27,
     "metadata": {},
     "output_type": "execute_result"
    },
    {
     "data": {
      "image/png": "[encoded data removed]",
      "text/plain": [
       "<matplotlib.figure.Figure at 0x11a637828>"
      ]
     },
     "metadata": {},
     "output_type": "display_data"
    }
   ],
   "source": [
    "plt.figure(figsize=(10, 10))\n",
    "from scipy import integrate\n",
    "\n",
    "class PowerLaw():\n",
    "\n",
    "    def _power_law(self, energy, index):\n",
    "        return energy**(index)\n",
    "\n",
    "    def expected_events_in_bins(self, index, bins, effective_area, t_obs):\n",
    "        # strip some units\n",
    "        bins = bins.value\n",
    "        aeff = lambda e: effective_area.evaluate(e*u.TeV, theta=0.0*u.deg).value\n",
    "        t_obs = t_obs.value\n",
    "        \n",
    "        expectation =  [self._expected_events_in_range(index, m, n, aeff) for m, n in zip(bins[0:], bins[1:])]\n",
    "        return t_obs * np.array(expectation)\n",
    "\n",
    "    def _expected_events_in_range(self, index, e_low, e_high, effective_area):\n",
    "        r = integrate.quad(lambda e: self._power_law(e, index) * effective_area(e), e_low, e_high)\n",
    "        return r[0]\n",
    "    \n",
    "m = PowerLaw()\n",
    "model = m.expected_events_in_bins(index=-2.62, bins=bins, effective_area=aeff, t_obs=17.7*u.h)\n",
    "\n",
    "\n",
    "bin_center = np.sqrt(bins[0:-1] * bins[1:])\n",
    "area = aeff.evaluate(bin_center, theta=0*u.deg).to('m^2')\n",
    "old_model = expected_events_in_bins(index=-2.62, bins=bins.value) * area * 17.7 \n",
    "\n",
    "\n",
    "plt.plot(bin_center, model, '.', label='approximation')\n",
    "plt.plot(bin_center, old_model, '.', label='exact solution')\n",
    "plt.xscale('log')\n",
    "plt.legend()\n",
    "# plt.yscale('log')"
   ]
  },
  {
   "cell_type": "code",
   "execution_count": 15,
   "metadata": {
    "ExecuteTime": {
     "end_time": "2018-02-21T17:51:00.704708Z",
     "start_time": "2018-02-21T17:51:00.667480Z"
    }
   },
   "outputs": [
    {
     "ename": "NameError",
     "evalue": "name 'expected_events_in_bins' is not defined",
     "output_type": "error",
     "traceback": [
      "\u001b[0;31m---------------------------------------------------------------------------\u001b[0m",
      "\u001b[0;31mNameError\u001b[0m                                 Traceback (most recent call last)",
      "\u001b[0;32m<ipython-input-15-46666cb6e235>\u001b[0m in \u001b[0;36m<module>\u001b[0;34m()\u001b[0m\n\u001b[1;32m      1\u001b[0m \u001b[0mbins_2\u001b[0m \u001b[0;34m=\u001b[0m \u001b[0mnp\u001b[0m\u001b[0;34m.\u001b[0m\u001b[0mlogspace\u001b[0m\u001b[0;34m(\u001b[0m\u001b[0mnp\u001b[0m\u001b[0;34m.\u001b[0m\u001b[0mlog10\u001b[0m\u001b[0;34m(\u001b[0m\u001b[0mbins\u001b[0m\u001b[0;34m.\u001b[0m\u001b[0mmin\u001b[0m\u001b[0;34m(\u001b[0m\u001b[0;34m)\u001b[0m\u001b[0;34m.\u001b[0m\u001b[0mvalue\u001b[0m\u001b[0;34m)\u001b[0m\u001b[0;34m,\u001b[0m \u001b[0mnp\u001b[0m\u001b[0;34m.\u001b[0m\u001b[0mlog10\u001b[0m\u001b[0;34m(\u001b[0m\u001b[0mbins\u001b[0m\u001b[0;34m.\u001b[0m\u001b[0mmax\u001b[0m\u001b[0;34m(\u001b[0m\u001b[0;34m)\u001b[0m\u001b[0;34m.\u001b[0m\u001b[0mvalue\u001b[0m\u001b[0;34m)\u001b[0m\u001b[0;34m,\u001b[0m \u001b[0;36m100\u001b[0m\u001b[0;34m)\u001b[0m \u001b[0;34m*\u001b[0m \u001b[0mu\u001b[0m\u001b[0;34m.\u001b[0m\u001b[0mTeV\u001b[0m\u001b[0;34m\u001b[0m\u001b[0m\n\u001b[0;32m----> 2\u001b[0;31m \u001b[0mmodel\u001b[0m \u001b[0;34m=\u001b[0m \u001b[0mexpected_events_in_bins\u001b[0m\u001b[0;34m(\u001b[0m\u001b[0;34m-\u001b[0m\u001b[0;36m2.62\u001b[0m\u001b[0;34m,\u001b[0m \u001b[0mbins_2\u001b[0m\u001b[0;34m.\u001b[0m\u001b[0mvalue\u001b[0m\u001b[0;34m,\u001b[0m \u001b[0;32mlambda\u001b[0m \u001b[0me\u001b[0m\u001b[0;34m:\u001b[0m \u001b[0maeff\u001b[0m\u001b[0;34m.\u001b[0m\u001b[0mevaluate\u001b[0m\u001b[0;34m(\u001b[0m\u001b[0me\u001b[0m\u001b[0;34m*\u001b[0m\u001b[0mu\u001b[0m\u001b[0;34m.\u001b[0m\u001b[0mTeV\u001b[0m\u001b[0;34m,\u001b[0m \u001b[0mtheta\u001b[0m\u001b[0;34m=\u001b[0m\u001b[0;36m0.0\u001b[0m\u001b[0;34m*\u001b[0m\u001b[0mu\u001b[0m\u001b[0;34m.\u001b[0m\u001b[0mdeg\u001b[0m\u001b[0;34m)\u001b[0m\u001b[0;34m.\u001b[0m\u001b[0mvalue\u001b[0m\u001b[0;34m,\u001b[0m \u001b[0mt_obs\u001b[0m\u001b[0;34m=\u001b[0m\u001b[0;36m17.7\u001b[0m\u001b[0;34m*\u001b[0m\u001b[0mu\u001b[0m\u001b[0;34m.\u001b[0m\u001b[0mh\u001b[0m\u001b[0;34m)\u001b[0m\u001b[0;34m\u001b[0m\u001b[0m\n\u001b[0m\u001b[1;32m      3\u001b[0m \u001b[0;34m\u001b[0m\u001b[0m\n\u001b[1;32m      4\u001b[0m \u001b[0mbin_center_2\u001b[0m \u001b[0;34m=\u001b[0m \u001b[0mnp\u001b[0m\u001b[0;34m.\u001b[0m\u001b[0msqrt\u001b[0m\u001b[0;34m(\u001b[0m\u001b[0mbins_2\u001b[0m\u001b[0;34m[\u001b[0m\u001b[0;36m0\u001b[0m\u001b[0;34m:\u001b[0m\u001b[0;34m-\u001b[0m\u001b[0;36m1\u001b[0m\u001b[0;34m]\u001b[0m \u001b[0;34m*\u001b[0m \u001b[0mbins_2\u001b[0m\u001b[0;34m[\u001b[0m\u001b[0;36m1\u001b[0m\u001b[0;34m:\u001b[0m\u001b[0;34m]\u001b[0m\u001b[0;34m)\u001b[0m\u001b[0;34m\u001b[0m\u001b[0m\n\u001b[1;32m      5\u001b[0m \u001b[0;34m\u001b[0m\u001b[0m\n",
      "\u001b[0;31mNameError\u001b[0m: name 'expected_events_in_bins' is not defined"
     ]
    }
   ],
   "source": [
    "bins_2 = np.logspace(np.log10(bins.min().value), np.log10(bins.max().value), 100) * u.TeV\n",
    "model = expected_events_in_bins(-2.62, bins_2.value, lambda e: aeff.evaluate(e*u.TeV, theta=0.0*u.deg).value, t_obs=17.7*u.h) \n",
    "\n",
    "bin_center_2 = np.sqrt(bins_2[0:-1] * bins_2[1:])\n",
    "\n",
    "plt.plot(bin_center_2, model, '.')\n",
    "plt.xscale('log')\n",
    "plt.yscale('log')"
   ]
  },
  {
   "cell_type": "code",
   "execution_count": null,
   "metadata": {
    "collapsed": true
   },
   "outputs": [],
   "source": []
  },
  {
   "cell_type": "code",
   "execution_count": null,
   "metadata": {
    "collapsed": true
   },
   "outputs": [],
   "source": []
  }
 ],
 "metadata": {
  "kernelspec": {
   "display_name": "Python 3",
   "language": "python",
   "name": "python3"
  },
  "language_info": {
   "codemirror_mode": {
    "name": "ipython",
    "version": 3
   },
   "file_extension": ".py",
   "mimetype": "text/x-python",
   "name": "python",
   "nbconvert_exporter": "python",
   "pygments_lexer": "ipython3",
   "version": "3.6.4"
  }
 },
 "nbformat": 4,
 "nbformat_minor": 2
}
