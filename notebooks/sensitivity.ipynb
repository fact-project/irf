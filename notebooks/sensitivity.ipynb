{
 "cells": [
  {
   "cell_type": "code",
   "execution_count": 31,
   "metadata": {
    "collapsed": true
   },
   "outputs": [],
   "source": [
    "import sympy\n",
    "\n",
    "sympy.init_printing()"
   ]
  },
  {
   "cell_type": "markdown",
   "metadata": {},
   "source": [
    "## Sensitivity Calculation\n",
    "The sensitvity of an IACT is defined as the minimum flux needed to observe a (point) source with a significance of least $\\sigma_{target}$ within a fixed amount of time $t_{ref}$.\n",
    "After analysing the high-level IACT data you're left with the number of events from the source region from the sky and the number of events from the background region in the sky. Namely $N_{on}$ and  $N_{off}$. Usually, if not always, the source and background regions have different sizes. The ration between these is called $\\alpha$."
   ]
  },
  {
   "cell_type": "code",
   "execution_count": 32,
   "metadata": {
    "collapsed": false
   },
   "outputs": [],
   "source": [
    "n_on, n_off, alpha, t_obs, t_ref, relative_flux = sympy.var([\n",
    "    'N_\\mathrm{on}',\n",
    "    'N_\\mathrm{off}',\n",
    "    'alpha',\n",
    "    't_\\mathrm{obs}',\n",
    "    't_\\mathrm{ref}',\n",
    "    '\\phi_\\mathrm{rel}',\n",
    "])\n",
    "\n",
    "ratio = t_obs/t_ref"
   ]
  },
  {
   "cell_type": "code",
   "execution_count": 33,
   "metadata": {
    "collapsed": false
   },
   "outputs": [
    {
     "data": {
      "image/png": "[encoded data removed]",
      "text/latex": [
       "$$\\left ( N_\\mathrm{on}, \\quad N_\\mathrm{off}, \\quad \\alpha, \\quad t_\\mathrm{obs}, \\quad \\phi_\\mathrm{rel}, \\quad \\frac{t_\\mathrm{obs}}{t_\\mathrm{ref}}\\right )$$"
      ],
      "text/plain": [
       "⎛                                                                     t_\\mathr\n",
       "⎜N_\\mathrm{on}, N_\\mathrm{off}, α, t_\\mathrm{obs}, \\phi_\\mathrm{rel}, ────────\n",
       "⎝                                                                     t_\\mathr\n",
       "\n",
       "m{obs}⎞\n",
       "──────⎟\n",
       "m{ref}⎠"
      ]
     },
     "execution_count": 33,
     "metadata": {},
     "output_type": "execute_result"
    }
   ],
   "source": [
    "n_on, n_off, alpha, t_obs, relative_flux, ratio"
   ]
  },
  {
   "cell_type": "markdown",
   "metadata": {},
   "source": [
    "The good old Li&Ma formula calculates the significance of an observation based on the numbers above."
   ]
  },
  {
   "cell_type": "code",
   "execution_count": 34,
   "metadata": {
    "collapsed": false
   },
   "outputs": [
    {
     "data": {
      "image/png": "[encoded data removed]",
      "text/latex": [
       "$$\\sqrt{2 N_\\mathrm{off} \\log{\\left (\\frac{N_\\mathrm{off} \\left(\\alpha + 1\\right)}{N_\\mathrm{off} + N_\\mathrm{on}} \\right )} + 2 N_\\mathrm{on} \\log{\\left (\\frac{N_\\mathrm{on} \\left(\\alpha + 1\\right)}{\\alpha \\left(N_\\mathrm{off} + N_\\mathrm{on}\\right)} \\right )}}$$"
      ],
      "text/plain": [
       "    __________________________________________________________________________\n",
       "   ╱                     ⎛    N_\\mathrm{off}⋅(α + 1)    ⎞                     \n",
       "  ╱  2⋅N_\\mathrm{off}⋅log⎜──────────────────────────────⎟ + 2⋅N_\\mathrm{on}⋅lo\n",
       "╲╱                       ⎝N_\\mathrm{off} + N_\\mathrm{on}⎠                     \n",
       "\n",
       "______________________________________\n",
       " ⎛      N_\\mathrm{on}⋅(α + 1)       ⎞ \n",
       "g⎜──────────────────────────────────⎟ \n",
       " ⎝α⋅(N_\\mathrm{off} + N_\\mathrm{on})⎠ "
      ]
     },
     "execution_count": 34,
     "metadata": {},
     "output_type": "execute_result"
    }
   ],
   "source": [
    "p_on = n_on / (n_on + n_off)\n",
    "p_off = n_off / (n_on + n_off)\n",
    "\n",
    "t1 = n_on * sympy.log(((1 + alpha) / alpha) * p_on)\n",
    "t2 = n_off * sympy.log((1 + alpha) * p_off)\n",
    "\n",
    "S_li_ma = sympy.sqrt(2 * (t1 + t2))\n",
    "\n",
    "sympy.simplify(S_li_ma)"
   ]
  },
  {
   "cell_type": "markdown",
   "metadata": {},
   "source": [
    "Scale the counts to the expected numbers taking into account the reference time (i.e. 50 hours) \n",
    "and the actual observation time (which of course only really defined for real observations)"
   ]
  },
  {
   "cell_type": "code",
   "execution_count": 35,
   "metadata": {
    "collapsed": false
   },
   "outputs": [],
   "source": [
    "scale = t_ref / t_obs * relative_flux\n",
    "\n",
    "scaled_li_ma = sympy.simplify(S_li_ma.subs({n_on: n_on * scale, n_off: n_off * scale}))"
   ]
  },
  {
   "cell_type": "markdown",
   "metadata": {
    "collapsed": false
   },
   "source": [
    "The target significance is pre defined and fixed (usually set to 5 sigma). So we create an equality between the target sigma and the scaled Li&Ma formula and solve for the flux."
   ]
  },
  {
   "cell_type": "code",
   "execution_count": 45,
   "metadata": {
    "collapsed": false
   },
   "outputs": [],
   "source": [
    "target_significance = sympy.Symbol('\\sigma_\\mathrm{target}')\n",
    "eq = sympy.Equality(scaled_li_ma, target_significance)"
   ]
  },
  {
   "cell_type": "code",
   "execution_count": 50,
   "metadata": {
    "collapsed": false
   },
   "outputs": [
    {
     "name": "stdout",
     "output_type": "stream",
     "text": [
      "Sensitivity = \n"
     ]
    },
    {
     "data": {
      "image/png": "[encoded data removed]",
      "text/latex": [
       "$$\\frac{\\sigma_\\mathrm{target}^{2} t_\\mathrm{obs}}{2 t_\\mathrm{ref} \\left(N_\\mathrm{off} \\log{\\left (\\frac{N_\\mathrm{off} \\left(\\alpha + 1\\right)}{N_\\mathrm{off} + N_\\mathrm{on}} \\right )} + N_\\mathrm{on} \\log{\\left (\\frac{N_\\mathrm{on} \\left(\\alpha + 1\\right)}{\\alpha \\left(N_\\mathrm{off} + N_\\mathrm{on}\\right)} \\right )}\\right)}$$"
      ],
      "text/plain": [
       "                                                                  2           \n",
       "                                            \\sigma_\\mathrm{target} ⋅t_\\mathrm{\n",
       "──────────────────────────────────────────────────────────────────────────────\n",
       "                 ⎛                  ⎛    N_\\mathrm{off}⋅(α + 1)    ⎞          \n",
       "2⋅t_\\mathrm{ref}⋅⎜N_\\mathrm{off}⋅log⎜──────────────────────────────⎟ + N_\\math\n",
       "                 ⎝                  ⎝N_\\mathrm{off} + N_\\mathrm{on}⎠          \n",
       "\n",
       "                                               \n",
       "obs}                                           \n",
       "───────────────────────────────────────────────\n",
       "          ⎛      N_\\mathrm{on}⋅(α + 1)       ⎞⎞\n",
       "rm{on}⋅log⎜──────────────────────────────────⎟⎟\n",
       "          ⎝α⋅(N_\\mathrm{off} + N_\\mathrm{on})⎠⎠"
      ]
     },
     "execution_count": 50,
     "metadata": {},
     "output_type": "execute_result"
    }
   ],
   "source": [
    "print('Sensitivity = ')\n",
    "sympy.solve(eq, relative_flux)[0].simplify()"
   ]
  },
  {
   "cell_type": "code",
   "execution_count": null,
   "metadata": {
    "collapsed": true
   },
   "outputs": [],
   "source": []
  }
 ],
 "metadata": {
  "anaconda-cloud": {},
  "kernelspec": {
   "display_name": "Python [default]",
   "language": "python",
   "name": "python3"
  },
  "language_info": {
   "codemirror_mode": {
    "name": "ipython",
    "version": 3
   },
   "file_extension": ".py",
   "mimetype": "text/x-python",
   "name": "python",
   "nbconvert_exporter": "python",
   "pygments_lexer": "ipython3",
   "version": "3.5.2"
  }
 },
 "nbformat": 4,
 "nbformat_minor": 2
}
