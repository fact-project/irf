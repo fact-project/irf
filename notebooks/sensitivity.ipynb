{
 "cells": [
  {
   "cell_type": "code",
   "execution_count": 2,
   "metadata": {
    "collapsed": true
   },
   "outputs": [],
   "source": [
    "%matplotlib inline\n",
    "import sympy\n",
    "import numpy as np\n",
    "import astropy.units as u\n",
    "import uncertainties as unc\n",
    "import uncertainties.unumpy as unp\n",
    "import matplotlib.pyplot as plt\n",
    "from scipy.optimize import minimize_scalar\n",
    "from fact.analysis import li_ma_significance\n",
    "sympy.init_printing()"
   ]
  },
  {
   "cell_type": "markdown",
   "metadata": {},
   "source": [
    "## Sensitivity Calculation\n",
    "The sensitvity of an IACT is defined as the minimum flux needed to observe a (point) source with a significance of least $\\sigma_{target}$ within a fixed amount of time $t_{ref}$.\n",
    "After analysing the high-level IACT data you're left with the number of events from the source region from the sky and the number of events from the background region in the sky. Namely $N_{on}$ and  $N_{off}$. Usually, if not always, the source and background regions have different sizes. The ration between these is called $\\alpha$."
   ]
  },
  {
   "cell_type": "markdown",
   "metadata": {},
   "source": [
    "The good old Li&Ma formula calculates the significance of an observation based on the numbers above. To calculate the sensitivity we scale the number of 'gamma' events by the relative flux. "
   ]
  },
  {
   "cell_type": "markdown",
   "metadata": {},
   "source": [
    "All other counts are scaled taking into account the reference time (i.e. 50 hours) \n",
    "and the actual observation time (which of course only really defined for real observations)"
   ]
  },
  {
   "cell_type": "markdown",
   "metadata": {
    "collapsed": false
   },
   "source": [
    "The target significance is pre defined and fixed (usually set to 5 sigma). So we create an equality between the target sigma and the scaled Li&Ma formula and solve for the flux."
   ]
  },
  {
   "cell_type": "code",
   "execution_count": 3,
   "metadata": {
    "collapsed": false
   },
   "outputs": [],
   "source": [
    "#target_significance = sympy.Symbol('\\sigma_\\mathrm{target}')\n",
    "#eq = sympy.Equality(scaled_li_ma, target_significance)"
   ]
  },
  {
   "cell_type": "markdown",
   "metadata": {
    "collapsed": false
   },
   "source": [
    "Calling `sympy.solve(eq, relative_flux)`, to solve for the relative flux, yields no solution unfortunately. So we use a numerical minimizer to solve the problem."
   ]
  },
  {
   "cell_type": "markdown",
   "metadata": {
    "collapsed": true
   },
   "source": [
    "Below you will find a function implementing the Li&Ma formula and a function minimizing the function versus the target significance of 5 sigma. "
   ]
  },
  {
   "cell_type": "code",
   "execution_count": 4,
   "metadata": {
    "collapsed": false
   },
   "outputs": [],
   "source": [
    "@u.quantity_input(t_obs=u.hour, t_ref=u.hour)\n",
    "def relative_sensitivity(\n",
    "        n_on,\n",
    "        n_off,\n",
    "        alpha,\n",
    "        target_significance=5,\n",
    "        ):\n",
    "    '''\n",
    "    Calculate the relative sensitivity defined as the flux\n",
    "    relative to the reference source that is detectable with\n",
    "    significance in t_ref.\n",
    "\n",
    "    Parameters\n",
    "    ----------\n",
    "    n_on: int or array-like\n",
    "        Number of signal-like events for the on observations\n",
    "    n_off: int or array-like\n",
    "        Number of signal-like events for the off observations\n",
    "    alpha: float\n",
    "        Scaling factor between on and off observations.\n",
    "        1 / number of off regions for wobble observations.\n",
    "    target_significance: float\n",
    "        Significance necessary for a detection\n",
    "        \n",
    "    Returns\n",
    "    ----------\n",
    "    The relative flux neccessary to detect the source with the given target significance.\n",
    "    '''\n",
    "    scale = []\n",
    "    for on, off in zip(n_on, n_off):\n",
    "        def f(relative_flux):\n",
    "            s = li_ma_significance((on - off) * relative_flux + off, off, alpha=alpha)\n",
    "            return s\n",
    "\n",
    "        s = minimize_scalar(lambda x: (target_significance - f(x))**2)\n",
    "\n",
    "        if not s.success:\n",
    "            print('This went horribly wrong.')\n",
    "        \n",
    "        scale.append(s.x)\n",
    "    return scale"
   ]
  },
  {
   "cell_type": "code",
   "execution_count": 5,
   "metadata": {
    "collapsed": false
   },
   "outputs": [
    {
     "name": "stdout",
     "output_type": "stream",
     "text": [
      "relative sensitivity is: [2.6180339603380443, 2.6180339603380443, 12.239475552474291, 2.6180339603380443, -1.6180339754913822, -1.6180339754913822]\n"
     ]
    }
   ],
   "source": [
    "# unfortunately the results do not make sense at all.\n",
    "n_on =  [1, 2, 4, 1, 200, 400]\n",
    "n_off = [2, 2, 2, 0, 10, 10]\n",
    "\n",
    "s = relative_sensitivity(n_on, n_off, alpha=1,target_significance=5)\n",
    "print('relative sensitivity is: {}'.format(s))"
   ]
  },
  {
   "cell_type": "code",
   "execution_count": null,
   "metadata": {
    "collapsed": false
   },
   "outputs": [],
   "source": []
  }
 ],
 "metadata": {
  "anaconda-cloud": {},
  "kernelspec": {
   "display_name": "Python [default]",
   "language": "python",
   "name": "python3"
  },
  "language_info": {
   "codemirror_mode": {
    "name": "ipython",
    "version": 3
   },
   "file_extension": ".py",
   "mimetype": "text/x-python",
   "name": "python",
   "nbconvert_exporter": "python",
   "pygments_lexer": "ipython3",
   "version": "3.5.2"
  }
 },
 "nbformat": 4,
 "nbformat_minor": 2
}
