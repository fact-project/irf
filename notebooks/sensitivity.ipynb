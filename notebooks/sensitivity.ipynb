{
 "cells": [
  {
   "cell_type": "code",
   "execution_count": 1,
   "metadata": {
    "collapsed": true
   },
   "outputs": [],
   "source": [
    "import sympy\n",
    "\n",
    "sympy.init_printing()"
   ]
  },
  {
   "cell_type": "code",
   "execution_count": 2,
   "metadata": {
    "collapsed": false
   },
   "outputs": [],
   "source": [
    "n_on, n_off, alpha, t_obs, t_ref, relative_flux = sympy.var([\n",
    "    'N_\\mathrm{on}',\n",
    "    'N_\\mathrm{off}',\n",
    "    'alpha',\n",
    "    't_\\mathrm{obs}',\n",
    "    't_\\mathrm{ref}',\n",
    "    '\\phi_\\mathrm{rel}',\n",
    "])"
   ]
  },
  {
   "cell_type": "code",
   "execution_count": 3,
   "metadata": {
    "collapsed": false
   },
   "outputs": [
    {
     "data": {
      "image/png": "[encoded data removed]",
      "text/latex": [
       "$$\\left ( N_\\mathrm{on}, \\quad N_\\mathrm{off}, \\quad \\alpha, \\quad t_\\mathrm{obs}, \\quad \\phi_\\mathrm{rel}\\right )$$"
      ],
      "text/plain": [
       "(N_\\mathrm{on}, N_\\mathrm{off}, α, t_\\mathrm{obs}, \\phi_\\mathrm{rel})"
      ]
     },
     "execution_count": 3,
     "metadata": {},
     "output_type": "execute_result"
    }
   ],
   "source": [
    "n_on, n_off, alpha, t_obs, relative_flux"
   ]
  },
  {
   "cell_type": "code",
   "execution_count": 4,
   "metadata": {
    "collapsed": false
   },
   "outputs": [
    {
     "data": {
      "image/png": "[encoded data removed]",
      "text/latex": [
       "$$\\sqrt{2 N_\\mathrm{off} \\log{\\left (\\frac{N_\\mathrm{off} \\left(\\alpha + 1\\right)}{N_\\mathrm{off} + N_\\mathrm{on}} \\right )} + 2 N_\\mathrm{on} \\log{\\left (\\frac{N_\\mathrm{on} \\left(\\alpha + 1\\right)}{\\alpha \\left(N_\\mathrm{off} + N_\\mathrm{on}\\right)} \\right )}}$$"
      ],
      "text/plain": [
       "    __________________________________________________________________________\n",
       "   ╱                     ⎛    N_\\mathrm{off}⋅(α + 1)    ⎞                     \n",
       "  ╱  2⋅N_\\mathrm{off}⋅log⎜──────────────────────────────⎟ + 2⋅N_\\mathrm{on}⋅lo\n",
       "╲╱                       ⎝N_\\mathrm{off} + N_\\mathrm{on}⎠                     \n",
       "\n",
       "______________________________________\n",
       " ⎛      N_\\mathrm{on}⋅(α + 1)       ⎞ \n",
       "g⎜──────────────────────────────────⎟ \n",
       " ⎝α⋅(N_\\mathrm{off} + N_\\mathrm{on})⎠ "
      ]
     },
     "execution_count": 4,
     "metadata": {},
     "output_type": "execute_result"
    }
   ],
   "source": [
    "p_on = n_on / (n_on + n_off)\n",
    "p_off = n_off / (n_on + n_off)\n",
    "\n",
    "t1 = n_on * sympy.log(((1 + alpha) / alpha) * p_on)\n",
    "t2 = n_off * sympy.log((1 + alpha) * p_off)\n",
    "\n",
    "S_li_ma = sympy.sqrt(2 * (t1 + t2))\n",
    "\n",
    "sympy.simplify(S_li_ma)"
   ]
  },
  {
   "cell_type": "code",
   "execution_count": 5,
   "metadata": {
    "collapsed": false
   },
   "outputs": [],
   "source": [
    "scale = t_ref / t_obs * relative_flux\n",
    "\n",
    "scaled = sympy.simplify(S_li_ma.subs({n_on: n_on * scale, n_off: n_off * scale}))"
   ]
  },
  {
   "cell_type": "code",
   "execution_count": 6,
   "metadata": {
    "collapsed": false
   },
   "outputs": [
    {
     "data": {
      "image/png": "[encoded data removed]",
      "text/latex": [
       "$$\\sqrt{2} \\sqrt{\\frac{\\phi_\\mathrm{rel} t_\\mathrm{ref}}{t_\\mathrm{obs}} \\left(N_\\mathrm{off} \\log{\\left (\\frac{N_\\mathrm{off} \\left(\\alpha + 1\\right)}{N_\\mathrm{off} + N_\\mathrm{on}} \\right )} + N_\\mathrm{on} \\log{\\left (\\frac{N_\\mathrm{on} \\left(\\alpha + 1\\right)}{\\alpha \\left(N_\\mathrm{off} + N_\\mathrm{on}\\right)} \\right )}\\right)}$$"
      ],
      "text/plain": [
       "         _____________________________________________________________________\n",
       "        ╱                                  ⎛                  ⎛    N_\\mathrm{o\n",
       "       ╱  \\phi_\\mathrm{rel}⋅t_\\mathrm{ref}⋅⎜N_\\mathrm{off}⋅log⎜───────────────\n",
       "      ╱                                    ⎝                  ⎝N_\\mathrm{off} \n",
       "√2⋅  ╱    ────────────────────────────────────────────────────────────────────\n",
       "   ╲╱                                                                     t_\\m\n",
       "\n",
       "__________________________________________________________________________\n",
       "ff}⋅(α + 1)    ⎞                    ⎛      N_\\mathrm{on}⋅(α + 1)       ⎞⎞ \n",
       "───────────────⎟ + N_\\mathrm{on}⋅log⎜──────────────────────────────────⎟⎟ \n",
       "+ N_\\mathrm{on}⎠                    ⎝α⋅(N_\\mathrm{off} + N_\\mathrm{on})⎠⎠ \n",
       "───────────────────────────────────────────────────────────────────────── \n",
       "athrm{obs}                                                                "
      ]
     },
     "execution_count": 6,
     "metadata": {},
     "output_type": "execute_result"
    }
   ],
   "source": [
    "scaled"
   ]
  },
  {
   "cell_type": "code",
   "execution_count": 7,
   "metadata": {
    "collapsed": true
   },
   "outputs": [],
   "source": [
    "eq = sympy.Equality(scaled, 5)"
   ]
  },
  {
   "cell_type": "code",
   "execution_count": 8,
   "metadata": {
    "collapsed": false
   },
   "outputs": [
    {
     "data": {
      "image/png": "[encoded data removed]",
      "text/latex": [
       "$$\\frac{25 t_\\mathrm{obs}}{2 t_\\mathrm{ref} \\left(N_\\mathrm{off} \\log{\\left (\\frac{N_\\mathrm{off} \\left(\\alpha + 1\\right)}{N_\\mathrm{off} + N_\\mathrm{on}} \\right )} + N_\\mathrm{on} \\log{\\left (\\frac{N_\\mathrm{on} \\left(\\alpha + 1\\right)}{\\alpha \\left(N_\\mathrm{off} + N_\\mathrm{on}\\right)} \\right )}\\right)}$$"
      ],
      "text/plain": [
       "                                                      25⋅t_\\mathrm{obs}       \n",
       "──────────────────────────────────────────────────────────────────────────────\n",
       "                 ⎛                  ⎛    N_\\mathrm{off}⋅(α + 1)    ⎞          \n",
       "2⋅t_\\mathrm{ref}⋅⎜N_\\mathrm{off}⋅log⎜──────────────────────────────⎟ + N_\\math\n",
       "                 ⎝                  ⎝N_\\mathrm{off} + N_\\mathrm{on}⎠          \n",
       "\n",
       "                                               \n",
       "───────────────────────────────────────────────\n",
       "          ⎛      N_\\mathrm{on}⋅(α + 1)       ⎞⎞\n",
       "rm{on}⋅log⎜──────────────────────────────────⎟⎟\n",
       "          ⎝α⋅(N_\\mathrm{off} + N_\\mathrm{on})⎠⎠"
      ]
     },
     "execution_count": 8,
     "metadata": {},
     "output_type": "execute_result"
    }
   ],
   "source": [
    "sympy.solve(eq, relative_flux)[0]"
   ]
  },
  {
   "cell_type": "code",
   "execution_count": null,
   "metadata": {
    "collapsed": true
   },
   "outputs": [],
   "source": []
  }
 ],
 "metadata": {
  "anaconda-cloud": {},
  "kernelspec": {
   "display_name": "Python [default]",
   "language": "python",
   "name": "python3"
  },
  "language_info": {
   "codemirror_mode": {
    "name": "ipython",
    "version": 3
   },
   "file_extension": ".py",
   "mimetype": "text/x-python",
   "name": "python",
   "nbconvert_exporter": "python",
   "pygments_lexer": "ipython3",
   "version": "3.5.2"
  }
 },
 "nbformat": 4,
 "nbformat_minor": 2
}
