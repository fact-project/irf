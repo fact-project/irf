{
 "cells": [
  {
   "cell_type": "code",
   "execution_count": 159,
   "metadata": {
    "collapsed": true
   },
   "outputs": [],
   "source": [
    "%matplotlib inline\n",
    "import sympy\n",
    "import numpy as np\n",
    "import astropy.units as u\n",
    "import uncertainties as unc\n",
    "import uncertainties.unumpy as unp\n",
    "import matplotlib.pyplot as plt\n",
    "from scipy.optimize import minimize_scalar, fsolve\n",
    "from fact.analysis import li_ma_significance\n",
    "sympy.init_printing()"
   ]
  },
  {
   "cell_type": "markdown",
   "metadata": {},
   "source": [
    "## Sensitivity Calculation\n",
    "The sensitvity of an IACT is defined as the minimum flux needed to observe a (point) source with a significance of least $\\sigma_{target}$ within a fixed amount of time $t_{ref}$.\n",
    "After analysing the high-level IACT data you're left with the number of events from the source region from the sky and the number of events from the background region in the sky. Namely $N_{on}$ and  $N_{off}$. Usually, if not always, the source and background regions have different sizes. The ration between these is called $\\alpha$."
   ]
  },
  {
   "cell_type": "markdown",
   "metadata": {},
   "source": [
    "The good old Li&Ma formula calculates the significance of an observation based on the numbers above. To calculate the sensitivity we scale the number of 'gamma' events by the relative flux. "
   ]
  },
  {
   "cell_type": "markdown",
   "metadata": {},
   "source": [
    "All other counts are scaled taking into account the reference time (i.e. 50 hours) \n",
    "and the actual observation time (which of course only really defined for real observations)"
   ]
  },
  {
   "cell_type": "markdown",
   "metadata": {
    "collapsed": false
   },
   "source": [
    "The target significance is pre defined and fixed (usually set to 5 sigma). So we create an equality between the target sigma and the scaled Li&Ma formula and solve for the flux."
   ]
  },
  {
   "cell_type": "code",
   "execution_count": 160,
   "metadata": {
    "collapsed": false
   },
   "outputs": [],
   "source": [
    "#target_significance = sympy.Symbol('\\sigma_\\mathrm{target}')\n",
    "#eq = sympy.Equality(scaled_li_ma, target_significance)"
   ]
  },
  {
   "cell_type": "markdown",
   "metadata": {
    "collapsed": false
   },
   "source": [
    "Calling `sympy.solve(eq, relative_flux)`, to solve for the relative flux, yields no solution unfortunately. So we use a numerical minimizer to solve the problem. To help find a good minimizer lets plot the Li&Ma significance and the target function. Obviously the minimizer doesnt work in this case."
   ]
  },
  {
   "cell_type": "code",
   "execution_count": 161,
   "metadata": {
    "collapsed": false
   },
   "outputs": [
    {
     "data": {
      "text/plain": [
       "<matplotlib.lines.Line2D at 0x127bb3438>"
      ]
     },
     "execution_count": 161,
     "metadata": {},
     "output_type": "execute_result"
    },
    {
     "data": {
      "image/png": "[encoded data removed]",
      "text/plain": [
       "<matplotlib.figure.Figure at 0x12791b278>"
      ]
     },
     "metadata": {},
     "output_type": "display_data"
    }
   ],
   "source": [
    "fig, (ax1, ax2) = plt.subplots(1,2, figsize=(15, 5))\n",
    "\n",
    "off=np.ones(200) * 10 # keep off counts constant\n",
    "\n",
    "parameter = np.linspace(-1, 10, 200)\n",
    "s = li_ma_significance(10 * parameter, off, alpha=1)\n",
    "\n",
    "ax1.plot(parameter, s, '.')\n",
    "ax1.set_ylabel('Li&Ma Significance')\n",
    "ax1.set_xlabel('Relative Flux')\n",
    "\n",
    "target_significance = 5\n",
    "f = lambda relative_flux: (target_significance - li_ma_significance(150 * relative_flux, off, alpha=1))**2\n",
    "ax2.plot(parameter, f(parameter), '.')\n",
    "\n",
    "# # lets eee if a minimizer finds the minimum\n",
    "minimum = minimize_scalar(f)\n",
    "ax2.axvline(minimum.x, color='red', linestyle='dashed')"
   ]
  },
  {
   "cell_type": "markdown",
   "metadata": {},
   "source": [
    "We need a significance function that is continuos and differentiable. Lets try to modifiy the Li&Ma method accordingly. "
   ]
  },
  {
   "cell_type": "code",
   "execution_count": 162,
   "metadata": {
    "collapsed": false
   },
   "outputs": [],
   "source": [
    "# def differentiable_li_ma_significance(n_on, n_off, alpha=1):\n",
    "#     scalar = np.isscalar(n_on)\n",
    "    \n",
    "#     n_on = np.array(n_on, copy=False, ndmin=1)\n",
    "#     n_off = np.array(n_off, copy=False, ndmin=1)\n",
    "    \n",
    "#     # find the indeces in the array for which the sign should be flipped\n",
    "#     m = n_on < n_off*alpha\n",
    "    \n",
    "#     p_on = n_on / (n_on + n_off)\n",
    "#     p_off = n_off / (n_on + n_off)\n",
    "\n",
    "#     t1 = n_on * np.log(((1 + alpha) / alpha) * p_on)\n",
    "#     t2 = n_off * np.log((1 + alpha) * p_off)\n",
    "\n",
    "#     ts = (t1 + t2)\n",
    "#     significance = np.sqrt(ts * 2)\n",
    "#     if len(m)> 0:\n",
    "#         significance[m] = -significance[m]\n",
    "#     if scalar:\n",
    "#         return significance[0]\n",
    "#     return significance\n"
   ]
  },
  {
   "cell_type": "markdown",
   "metadata": {},
   "source": [
    "Or simply add bounds to the optimizer."
   ]
  },
  {
   "cell_type": "code",
   "execution_count": 169,
   "metadata": {
    "collapsed": false
   },
   "outputs": [
    {
     "data": {
      "text/plain": [
       "<matplotlib.lines.Line2D at 0x125f3eb00>"
      ]
     },
     "execution_count": 169,
     "metadata": {},
     "output_type": "execute_result"
    },
    {
     "data": {
      "image/png": "[encoded data removed]",
      "text/plain": [
       "<matplotlib.figure.Figure at 0x125032fd0>"
      ]
     },
     "metadata": {},
     "output_type": "display_data"
    }
   ],
   "source": [
    "on = 200\n",
    "off = 10\n",
    "parameter = np.linspace(-3, 3, 200)\n",
    "f = lambda relative_flux: (target_significance - li_ma_significance((on - off) * relative_flux + off, off, alpha=1))**2\n",
    "plt.plot(parameter, f(parameter), '.')\n",
    "plt.ylabel('target function value')\n",
    "\n",
    "# lets see if a minimizer finds the minimum\n",
    "minimum = minimize_scalar(f)\n",
    "plt.axvline(minimum.x, color='red', linestyle='dashed')\n",
    "\n",
    "minimum = minimize_scalar(f, bounds=(1e-10, 100), method='bounded')\n",
    "plt.axvline(minimum.x, color='green', linestyle='dashed')"
   ]
  },
  {
   "cell_type": "markdown",
   "metadata": {
    "collapsed": true
   },
   "source": [
    "Below you will find a function implementing the Li&Ma formula and a function minimizing the function versus the target significance of 5 sigma. "
   ]
  },
  {
   "cell_type": "code",
   "execution_count": 195,
   "metadata": {
    "collapsed": false
   },
   "outputs": [],
   "source": [
    "@u.quantity_input(t_obs=u.hour, t_ref=u.hour)\n",
    "def relative_sensitivity(\n",
    "        n_on,\n",
    "        n_off,\n",
    "        alpha,\n",
    "        target_significance=5,\n",
    "        ):\n",
    "    '''\n",
    "    Calculate the relative sensitivity defined as the flux\n",
    "    relative to the reference source that is detectable with\n",
    "    significance in t_ref.\n",
    "\n",
    "    Parameters\n",
    "    ----------\n",
    "    n_on: int or array-like\n",
    "        Number of signal-like events for the on observations\n",
    "    n_off: int or array-like\n",
    "        Number of signal-like events for the off observations\n",
    "    alpha: float\n",
    "        Scaling factor between on and off observations.\n",
    "        1 / number of off regions for wobble observations.\n",
    "    target_significance: float\n",
    "        Significance necessary for a detection\n",
    "        \n",
    "    Returns\n",
    "    ----------\n",
    "    The relative flux neccessary to detect the source with the given target significance.\n",
    "    '''\n",
    "    scale = []\n",
    "    for on, off in zip(n_on, n_off):\n",
    "        if on < off*alpha or off == 0:\n",
    "            scale.append(np.inf)\n",
    "            continue\n",
    "        def f(relative_flux):\n",
    "            s = (target_significance - li_ma_significance((on - off) * relative_flux + off, off, alpha=alpha))**2\n",
    "            return s\n",
    "\n",
    "        s = minimize_scalar(f, bounds=(1e-12, 100), method='bounded')\n",
    "\n",
    "        scale.append(s.x)\n",
    "    return scale"
   ]
  },
  {
   "cell_type": "code",
   "execution_count": 196,
   "metadata": {
    "collapsed": false
   },
   "outputs": [
    {
     "name": "stdout",
     "output_type": "stream",
     "text": [
      "relative sensitivity is: [12.239475768994886, inf, 0.18904943918602754, 0.09210194632997426, 0.89798928277450285, 0.18904943918602754, 0.0017985381089989318]\n"
     ]
    }
   ],
   "source": [
    "n_on =  [4, 1, 200, 400, 50, 200, 20000]\n",
    "n_off = [2, 0, 10, 10, 10, 10, 10]\n",
    "\n",
    "s = relative_sensitivity(n_on, n_off, alpha=1, target_significance=5)\n",
    "print('relative sensitivity is: {}'.format(s))"
   ]
  }
 ],
 "metadata": {
  "anaconda-cloud": {},
  "kernelspec": {
   "display_name": "Python [default]",
   "language": "python",
   "name": "python3"
  },
  "language_info": {
   "codemirror_mode": {
    "name": "ipython",
    "version": 3
   },
   "file_extension": ".py",
   "mimetype": "text/x-python",
   "name": "python",
   "nbconvert_exporter": "python",
   "pygments_lexer": "ipython3",
   "version": "3.5.2"
  }
 },
 "nbformat": 4,
 "nbformat_minor": 2
}
