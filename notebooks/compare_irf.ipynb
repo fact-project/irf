{
 "cells": [
  {
   "cell_type": "code",
   "execution_count": null,
   "metadata": {},
   "outputs": [],
   "source": [
    "%matplotlib inline\n",
    "import matplotlib.pyplot as plt\n",
    "\n",
    "import numpy as np\n",
    "import pandas as pd\n",
    "import astropy.units as u\n",
    "from astropy.io import fits\n",
    "from astropy.coordinates import Angle\n",
    "from gammapy.spectrum import SensitivityEstimator, CountsSpectrum\n",
    "from gammapy.irf import EffectiveAreaTable2D, Background2D, PSF3D, EnergyDispersion2D, Background3D, EnergyDependentMultiGaussPSF\n",
    "import fact.io"
   ]
  },
  {
   "cell_type": "markdown",
   "metadata": {},
   "source": [
    "## IRF comparison\n",
    "\n",
    "This notebook compares two irf files by plotting the responses next to each other.\n",
    "First fix the offset angle for which to plot the IRF and extract the tables."
   ]
  },
  {
   "cell_type": "code",
   "execution_count": null,
   "metadata": {},
   "outputs": [],
   "source": [
    "offset = Angle(\"0.0 deg\")"
   ]
  },
  {
   "cell_type": "markdown",
   "metadata": {},
   "source": [
    "Now set the paths to theIRF files you want to compare and their titles. Execute and watch the world burn."
   ]
  },
  {
   "cell_type": "code",
   "execution_count": null,
   "metadata": {},
   "outputs": [],
   "source": [
    "my_irf_file, my_title = './../cta_irf.fits', 'My IRF'\n",
    "\n",
    "offical_irf_file, title = '../resources/offical_irf_file.fits', 'Official PROD3B IRF'"
   ]
  },
  {
   "cell_type": "code",
   "execution_count": null,
   "metadata": {},
   "outputs": [],
   "source": [
    "def plot_sensi(table, ax, title=''):\n",
    "    g = table['criterion'] == 'significance'\n",
    "    ax.plot(\n",
    "        table[\"energy\"][g],\n",
    "        table[\"e2dnde\"][g],\n",
    "        \"s-\",\n",
    "    )\n",
    "    ax.plot(\n",
    "        table[\"energy\"][~g],\n",
    "        table[\"e2dnde\"][~g],\n",
    "        \"s-\",\n",
    "    )\n",
    "    ax.set_xscale('log')\n",
    "    ax.set_yscale('log')\n",
    "    ax.set_title(title)\n",
    "    \n",
    "def load_sensitivity_reference():\n",
    "    path = '../resources/CTA-Performance-prod3b-v1-South-20deg-50h-DiffSens.txt'\n",
    "    df = pd.read_csv(\n",
    "        path, delimiter='\\t\\t', skiprows=10, names=['e_min', 'e_max', 'sensitivity'], engine='python'\n",
    "    )\n",
    "    return df\n",
    "\n",
    "def plot_refrence(ax=None):\n",
    "    df = load_sensitivity_reference()\n",
    "    bin_edges = sorted(list(set(df.e_min) | set(df.e_max))) * u.TeV\n",
    "    bin_center = np.sqrt(bin_edges[:-1] * bin_edges[1:])\n",
    "    sensitivity = df.sensitivity.values * u.erg / (u.cm ** 2 * u.s)\n",
    "\n",
    "    if not ax:\n",
    "        ax = plt.gca()\n",
    "\n",
    "    xerr = [np.abs(bin_edges[:-1] - bin_center).value, np.abs(bin_edges[1:] - bin_center).value]\n",
    "    ax.errorbar(\n",
    "        bin_center.value, sensitivity.value, xerr=xerr, linestyle='', color='#3e3e3e', label='Reference'\n",
    "    )\n",
    "    return ax\n",
    "\n",
    "def sensitivity(filename, e_reco_bins, e_true_bins):\n",
    "    aeff = EffectiveAreaTable2D.read(filename, hdu=\"EFFECTIVE AREA\")\n",
    "    bkg2d = Background3D.read(filename, hdu=\"BACKGROUND\").to_2d()\n",
    "    edisp = EnergyDispersion2D.read(filename, hdu=\"ENERGY DISPERSION\")\n",
    "    try:\n",
    "        psf = PSF3D.read(filename, hdu=\"PSF\")\n",
    "    except:\n",
    "        psf = EnergyDependentMultiGaussPSF.read(filename, hdu=\"POINT SPREAD FUNCTION\")\n",
    "\n",
    "    arf = aeff.to_effective_area_table(offset, energy=energy_true)\n",
    "    rmf = edisp.to_energy_dispersion(\n",
    "         offset, e_true=e_true_bins, e_reco=e_reco_bins\n",
    "    )\n",
    "    psf = psf.to_energy_dependent_table_psf(theta=offset)\n",
    "\n",
    "    containment = 0.68\n",
    "    energies = np.sqrt(energy_reco[1:] * energy_reco[:-1])\n",
    "    on_radii = psf.containment_radius(energies=energies, fraction=containment)\n",
    "    on_radii = np.clip(on_radii.to_value('deg'), 0, 2) * u.deg\n",
    "    solid_angles = 2 * np.pi * (1 - np.cos(on_radii)) * u.sr\n",
    "\n",
    "    arf.data.data *= containment\n",
    "    bkg_data = bkg2d.evaluate_integrate(\n",
    "        fov_lon=0 * u.deg, fov_lat=offset, energy_reco=e_reco_bins\n",
    "    )\n",
    "    bkg = CountsSpectrum(\n",
    "        e_reco_bins[:-1], e_reco_bins[1:], data=(bkg_data * solid_angles)\n",
    "    )\n",
    "    sensitivity_estimator = SensitivityEstimator(\n",
    "        arf=arf, rmf=rmf, bkg=bkg, livetime=\"50h\", gamma_min=10, sigma=5, alpha=0.2\n",
    "    )\n",
    "    return sensitivity_estimator.run()\n",
    "\n",
    "def make_default_cta_binning(e_min=0.02 * u.TeV, e_max=200 * u.TeV, centering='log', overflow=False):\n",
    "\n",
    "    bin_edges = np.logspace(np.log10(0.002), np.log10(2000), 31)\n",
    "    idx = np.searchsorted(bin_edges, [e_min.to_value(u.TeV), e_max.to_value(u.TeV)])\n",
    "    max_idx = min(idx[1]+1, len(bin_edges) - 1)\n",
    "    bin_edges = bin_edges[idx[0]:max_idx]\n",
    "    if overflow:\n",
    "        bin_edges = np.append(bin_edges, 10000)\n",
    "        bin_edges = np.append(0, bin_edges)\n",
    "    \n",
    "    if centering == 'log':\n",
    "        bin_centers = np.sqrt(bin_edges[:-1] * bin_edges[1:])\n",
    "    else:\n",
    "        bin_centers = 0.5 * (bin_edges[:-1] + bin_edges[1:])\n",
    "    bin_widths = np.diff(bin_edges)\n",
    "    \n",
    "    return bin_edges * u.TeV, bin_centers * u.TeV, bin_widths * u.TeV\n"
   ]
  },
  {
   "cell_type": "code",
   "execution_count": null,
   "metadata": {},
   "outputs": [],
   "source": [
    "energy_reco, _, _ = make_default_cta_binning()\n",
    "energy_true = np.logspace(-2.1, 2.4, 50) * u.TeV"
   ]
  },
  {
   "cell_type": "code",
   "execution_count": null,
   "metadata": {},
   "outputs": [],
   "source": [
    "f, [ax1, ax2] = plt.subplots(1, 2, constrained_layout=True, figsize=(10, 5))\n",
    "\n",
    "edisp = EnergyDispersion2D.read(my_irf_file, hdu=\"ENERGY DISPERSION\")\n",
    "edisp.plot_bias(ax=ax1)\n",
    "ax1.set_title(my_title)\n",
    "edisp_offical = EnergyDispersion2D.read(offical_irf_file, hdu=\"ENERGY DISPERSION\")\n",
    "edisp_offical.plot_bias(ax=ax2)\n",
    "ax2.set_title(title)\n",
    "None"
   ]
  },
  {
   "cell_type": "code",
   "execution_count": null,
   "metadata": {},
   "outputs": [],
   "source": [
    "f, [ax1, ax2] = plt.subplots(1, 2, constrained_layout=True, figsize=(10, 5))\n",
    "\n",
    "edisp = EnergyDispersion2D.read(my_irf_file, hdu=\"ENERGY DISPERSION\")\n",
    "edisp.plot_migration(ax=ax1)\n",
    "\n",
    "edisp_offical = EnergyDispersion2D.read(offical_irf_file, hdu=\"ENERGY DISPERSION\")\n",
    "edisp_offical.plot_migration(ax=ax2)\n",
    "\n",
    "ax1.set_title(my_title)\n",
    "ax2.set_title(title)\n",
    "None"
   ]
  },
  {
   "cell_type": "code",
   "execution_count": null,
   "metadata": {},
   "outputs": [],
   "source": [
    "f, [ax1, ax2] = plt.subplots(1, 2, constrained_layout=True, figsize=(10, 5))\n",
    "\n",
    "\n",
    "bkg2d = Background3D.read(my_irf_file, hdu=\"BACKGROUND\").to_2d()\n",
    "bkg2d.plot(ax=ax1)\n",
    "\n",
    "bkg2d_offical = Background3D.read(offical_irf_file, hdu=\"BACKGROUND\").to_2d()\n",
    "bkg2d_offical.plot(ax=ax2)\n",
    "\n",
    "ax2.set_xlim([0.008, 200])\n",
    "ax1.set_xlim([0.008, 200])\n",
    "\n",
    "ax1.set_title(my_title)\n",
    "ax2.set_title(title)\n",
    "None"
   ]
  },
  {
   "cell_type": "code",
   "execution_count": null,
   "metadata": {},
   "outputs": [],
   "source": [
    "f, [ax1, ax2] = plt.subplots(1, 2, constrained_layout=True, figsize=(10, 5))\n",
    "\n",
    "aeff = EffectiveAreaTable2D.read(my_irf_file, hdu=\"EFFECTIVE AREA\")\n",
    "aeff.plot_energy_dependence(ax=ax1)\n",
    "\n",
    "aeff_offical = EffectiveAreaTable2D.read(offical_irf_file, hdu=\"EFFECTIVE AREA\")\n",
    "aeff_offical.plot_energy_dependence(ax=ax2)\n",
    "ax1.set_ylim([0, 8E6])\n",
    "ax2.set_ylim([0, 8E6])\n",
    "\n",
    "ax1.set_title(my_title)\n",
    "ax2.set_title(title)\n",
    "None"
   ]
  },
  {
   "cell_type": "code",
   "execution_count": null,
   "metadata": {},
   "outputs": [],
   "source": [
    "f, [ax1, ax2] = plt.subplots(1, 2, constrained_layout=True, figsize=(10, 5))\n",
    "\n",
    "psf = PSF3D.read(my_irf_file, hdu=\"PSF\")\n",
    "psf.plot_containment_vs_energy(ax=ax1)\n",
    "\n",
    "psf_offical = EnergyDependentMultiGaussPSF.read(offical_irf_file, hdu='POINT SPREAD FUNCTION')\n",
    "psf_offical.plot_containment_vs_energy(ax=ax2)\n",
    "\n",
    "ax1.set_ylim([0, .7])\n",
    "ax2.set_ylim([0, .7])\n",
    "ax1.set_title(my_title)\n",
    "ax2.set_title(title)\n",
    "None"
   ]
  },
  {
   "cell_type": "code",
   "execution_count": null,
   "metadata": {},
   "outputs": [],
   "source": [
    "sensitivity_table = sensitivity(my_irf_file, e_reco_bins=energy_reco, e_true_bins=energy_true)\n",
    "sensitivity_table_offical = sensitivity(offical_irf_file, e_reco_bins=energy_reco, e_true_bins=energy_true)\n",
    "\n",
    "f, [ax1, ax2] = plt.subplots(1, 2, constrained_layout=True, figsize=(10, 5))\n",
    "plot_sensi(sensitivity_table, ax1, title='mine')\n",
    "plot_refrence(ax1)\n",
    "plot_sensi(sensitivity_table_offical, ax2, title='official')\n",
    "plot_refrence(ax2)\n",
    "ax1.set_ylim([0.1E-13, 1e-10])\n",
    "ax2.set_ylim([0.1E-13, 1e-10])\n",
    "\n",
    "ax1.set_title(my_title)\n",
    "ax2.set_title(title)\n",
    "None"
   ]
  },
  {
   "cell_type": "code",
   "execution_count": null,
   "metadata": {},
   "outputs": [],
   "source": [
    "f, [ax1, ax2] = plt.subplots(1, 2, constrained_layout=True, figsize=(10, 5))\n",
    "\n",
    "bkg3d = Background3D.read(my_irf_file, hdu=\"BACKGROUND\")\n",
    "ax1.imshow(bkg3d.data.data[5, :, :].value)\n",
    "print(bkg3d.data.data.sum())\n",
    "\n",
    "bkg3d = Background3D.read(offical_irf_file, hdu=\"BACKGROUND\")\n",
    "ax2.imshow(bkg3d.data.data[10, :, :].value)\n",
    "print(bkg3d.data.data.sum())\n",
    "\n",
    "ax1.set_title(my_title)\n",
    "ax2.set_title(title)\n",
    "None"
   ]
  },
  {
   "cell_type": "code",
   "execution_count": null,
   "metadata": {},
   "outputs": [],
   "source": []
  },
  {
   "cell_type": "code",
   "execution_count": null,
   "metadata": {},
   "outputs": [],
   "source": []
  }
 ],
 "metadata": {
  "kernelspec": {
   "display_name": "Python 3",
   "language": "python",
   "name": "python3"
  },
  "language_info": {
   "codemirror_mode": {
    "name": "ipython",
    "version": 3
   },
   "file_extension": ".py",
   "mimetype": "text/x-python",
   "name": "python",
   "nbconvert_exporter": "python",
   "pygments_lexer": "ipython3",
   "version": "3.7.2"
  }
 },
 "nbformat": 4,
 "nbformat_minor": 2
}
