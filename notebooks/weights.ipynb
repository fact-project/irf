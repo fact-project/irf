{
 "cells": [
  {
   "cell_type": "code",
   "execution_count": 1,
   "metadata": {
    "ExecuteTime": {
     "end_time": "2018-02-22T18:34:25.379941Z",
     "start_time": "2018-02-22T18:34:22.769117Z"
    }
   },
   "outputs": [
    {
     "name": "stderr",
     "output_type": "stream",
     "text": [
      "/usr/local/lib/python3.6/site-packages/matplotlib/__init__.py:913: UserWarning: axes.color_cycle is deprecated and replaced with axes.prop_cycle; please use the latter.\n",
      "  warnings.warn(self.msg_depr % (key, alt_key))\n",
      "/usr/local/lib/python3.6/site-packages/h5py/__init__.py:36: FutureWarning: Conversion of the second argument of issubdtype from `float` to `np.floating` is deprecated. In future, it will be treated as `np.float64 == np.dtype(float).type`.\n",
      "  from ._conv import register_converters as _register_converters\n"
     ]
    }
   ],
   "source": [
    "from astropy.table import Table\n",
    "import numpy as np\n",
    "import astropy.units as u\n",
    "import matplotlib.pyplot as plt\n",
    "from astropy.coordinates import SkyCoord, Angle\n",
    "import fact.io as fio\n",
    "from irf import irf_from_table, EffectiveArea, EnergyDispersion\n",
    "from regions import CircleSkyRegion\n",
    "%matplotlib inline\n",
    "\n",
    "import matplotlib as mpl\n",
    "mpl.rcParams['figure.figsize'] = (12, 6)"
   ]
  },
  {
   "cell_type": "code",
   "execution_count": 12,
   "metadata": {
    "ExecuteTime": {
     "end_time": "2018-02-22T18:38:50.269623Z",
     "start_time": "2018-02-22T18:38:50.259766Z"
    },
    "collapsed": true
   },
   "outputs": [],
   "source": [
    "N_MAGIC = ((1.5E-3)/0.001**(-2.58) / (u.TeV * u.cm**2 * u.s)).to(1/(u.TeV * u.km**2 *u.h))\n",
    "INDEX_MAGIC = -2.58\n",
    "\n",
    "T_OBS = 17.7\n",
    "FACT_SCATTER_AREA=(270 *u.m)**2 * np.pi"
   ]
  },
  {
   "cell_type": "code",
   "execution_count": 3,
   "metadata": {
    "ExecuteTime": {
     "end_time": "2018-02-22T18:34:25.480293Z",
     "start_time": "2018-02-22T18:34:25.394314Z"
    },
    "collapsed": true
   },
   "outputs": [],
   "source": [
    "class PowerLawSpectrumOld():\n",
    "    \n",
    "    def __init__(self, index):\n",
    "        self.index = index\n",
    "\n",
    "    def draw_samples(self, e_min, e_max, N):\n",
    "        a = e_min**(self.index + 1)\n",
    "        b = e_max**(self.index + 1)\n",
    "        r = np.random.uniform(0, 1, int(N))\n",
    "        k = (a + (b - a) * r)\n",
    "        e = k**(1. / (self.index + 1))\n",
    "        return e\n",
    "\n",
    "    def counts_in_bins(self, bins, t_obs, area):\n",
    "        c = np.array([self.counts_in_range(m, n, t_obs, area) for m, n in zip(bins[0:], bins[1:])])\n",
    "        return c\n",
    "\n",
    "    def counts_in_range(self, e_low, e_high, t_obs, area):\n",
    "        index = self.index\n",
    "        c = (1 / (index + 1)) * (e_high**(index + 1) - e_low**(index + 1))\n",
    "        return c * t_obs *area\n",
    "\n",
    "    def event_weights(self, event_energies, e_min, e_max, production_index, t_obs, area=(270 * u.m)**2 * np.pi, total_showers_simulated=10E6):\n",
    "        gamma = -production_index\n",
    "        w = event_energies**(gamma) * (e_max**(1 - gamma) - e_min**(1 - gamma)) / (1 - gamma)\n",
    "        w = w * area * t_obs / total_showers_simulated\n",
    "        w = w *  event_energies**self.index\n",
    "        return w   "
   ]
  },
  {
   "cell_type": "code",
   "execution_count": 75,
   "metadata": {
    "ExecuteTime": {
     "end_time": "2018-02-22T19:12:13.240693Z",
     "start_time": "2018-02-22T19:12:13.106975Z"
    },
    "collapsed": true
   },
   "outputs": [],
   "source": [
    "class PowerLawSpectrum(): \n",
    "    \n",
    "    def __init__(self, index, flux):\n",
    "        self.index = index\n",
    "        try:\n",
    "            self.flux = flux.to(1/(u.TeV * u.m**2 *u.h)).value\n",
    "        except AttributeError:\n",
    "            self.flux = flux\n",
    "            \n",
    "    @classmethod\n",
    "    def from_mc_production(cls, production_index, assumed_t_obs, total_showers_simulated, scatter_area, e_min, e_max):\n",
    "        n = (1 / (production_index + 1)) * (e_max**(production_index + 1) - e_min**(production_index + 1))\n",
    "        flux = total_showers_simulated / (assumed_t_obs * scatter_area * n)\n",
    "        return PowerLawSpectrum(production_index, flux)\n",
    "    \n",
    "    def __repr__(self):\n",
    "        return f'PowerLaw Speltrum \\n Index:{self.index} \\n Flux:{self.flux}'\n",
    "\n",
    "\n",
    "    def draw_samples(self, e_min, e_max, t_obs, area):\n",
    "        N = self.counts_in_range(e_min, e_max, t_obs, area)\n",
    "        a = e_min**(self.index + 1)\n",
    "        b = e_max**(self.index + 1)\n",
    "        r = np.random.uniform(0, 1, int(N))\n",
    "        k = (a + (b - a) * r)\n",
    "        e = k**(1. / (self.index + 1))\n",
    "        return e\n",
    "\n",
    "    def counts_in_bins(self, bins, t_obs, area):\n",
    "        c = np.array([self.counts_in_range(m, n, t_obs, area) for m, n in zip(bins[0:], bins[1:])])\n",
    "        return c\n",
    "\n",
    "    def counts_in_range(self, e_min, e_max, t_obs, area):\n",
    "        index = self.index\n",
    "        c = (1 / (index + 1)) * (e_max**(index + 1) - e_min**(index + 1))\n",
    "        return c * t_obs * area * self.flux\n",
    "\n",
    "    def event_weights(self, event_energies, e_min, e_max, production_spectrum, t_obs, area):\n",
    "        gamma = -production_spectrum.index\n",
    "        total_showers_simulated = production_spectrum.counts_in_range(e_min, e_max, t_obs, area)\n",
    "        w = event_energies**(gamma) * (e_max**(1 - gamma) - e_min**(1 - gamma)) / (1 - gamma)\n",
    "        w = w * area * t_obs / total_showers_simulated\n",
    "        w = w * event_energies**self.index * self.flux\n",
    "        return w   \n",
    "    "
   ]
  },
  {
   "cell_type": "code",
   "execution_count": 76,
   "metadata": {
    "ExecuteTime": {
     "end_time": "2018-02-22T19:12:13.642304Z",
     "start_time": "2018-02-22T19:12:13.636110Z"
    },
    "collapsed": true
   },
   "outputs": [],
   "source": [
    "bins=np.logspace(-0.5, 1.5, 20, base=10)\n",
    "bin_centers = np.sqrt(bins[0:-1] * bins[1:])"
   ]
  },
  {
   "cell_type": "code",
   "execution_count": 77,
   "metadata": {
    "ExecuteTime": {
     "end_time": "2018-02-22T19:12:14.867252Z",
     "start_time": "2018-02-22T19:12:13.821259Z"
    }
   },
   "outputs": [
    {
     "name": "stdout",
     "output_type": "stream",
     "text": [
      "159755.77887957142 253814.16608469267\n",
      "[0.9648323  0.14865028 0.8608252  ... 0.2607688  0.73987469 0.90110456]\n"
     ]
    },
    {
     "data": {
      "image/png": "[encoded data removed]",
      "text/plain": [
       "<matplotlib.figure.Figure at 0x133761048>"
      ]
     },
     "metadata": {},
     "output_type": "display_data"
    }
   ],
   "source": [
    "\n",
    "mc_spectrum = PowerLawSpectrum(index=-2.0, flux=0.02)\n",
    "\n",
    "crab_spectrum = PowerLawSpectrum(index=-2.6, flux=0.01)\n",
    "\n",
    "\n",
    "N1 = mc_spectrum.counts_in_range(bins.min(), bins.max(), T_OBS, FACT_SCATTER_AREA.value)\n",
    "N2 = crab_spectrum.counts_in_range(bins.min(), bins.max(), T_OBS, FACT_SCATTER_AREA.value)\n",
    "\n",
    "print(N2, N1)\n",
    "\n",
    "\n",
    "mc_energies =  mc_spectrum.draw_samples(bins.min(), bins.max(), t_obs=T_OBS, area=FACT_SCATTER_AREA.value)\n",
    "\n",
    "crab = crab_spectrum.counts_in_bins(bins, t_obs=T_OBS, area=FACT_SCATTER_AREA.value)\n",
    "\n",
    "w = crab_spectrum.event_weights(mc_energies, bins.min(), bins.max(), production_spectrum=mc_spectrum, t_obs=T_OBS, area=FACT_SCATTER_AREA.value)\n",
    "print(w)\n",
    "plt.plot(bin_centers, crab, '.', label='Crab Expectation')\n",
    "plt.hist(mc_energies, bins=bins, histtype='step', label=f'Random MC Sample index: {mc_spectrum.index}')\n",
    "plt.hist(mc_energies, bins=bins, histtype='step', label=f'Random MC Sample reweighted to {crab_spectrum.index}', weights=w)\n",
    "plt.legend()\n",
    "plt.xscale('log')\n",
    "plt.yscale('log')\n",
    "\n",
    "# print(sum(crab), len(mc_energies))"
   ]
  },
  {
   "cell_type": "code",
   "execution_count": 78,
   "metadata": {
    "ExecuteTime": {
     "end_time": "2018-02-22T19:12:14.888266Z",
     "start_time": "2018-02-22T19:12:14.869452Z"
    },
    "collapsed": true
   },
   "outputs": [],
   "source": [
    "def generate_fake_data(power_law_model, e_min, e_max, t_obs, area):\n",
    "    table = Table.read('../fact_irf.fits', hdu='EFFECTIVE AREA')\n",
    "    grid, data =  irf_from_table(table, interpolation_modes={'ENERG':'log'})\n",
    "    aeff = EffectiveArea(grid, data)\n",
    "    \n",
    "    N = power_law_model.counts_in_range(e_min, e_max, t_obs, area)\n",
    "    samples = power_law_model.draw_samples(e_min, e_max, t_obs, area)\n",
    "    trigger_probability = (aeff.evaluate(samples*u.TeV, theta=0*u.deg)/area).si.value\n",
    "    m  = np.random.uniform(0, 1, size=len(samples)) < trigger_probability\n",
    "    return samples[m]"
   ]
  },
  {
   "cell_type": "code",
   "execution_count": 79,
   "metadata": {
    "ExecuteTime": {
     "end_time": "2018-02-22T19:12:16.179123Z",
     "start_time": "2018-02-22T19:12:14.890847Z"
    }
   },
   "outputs": [
    {
     "data": {
      "image/png": "[encoded data removed]",
      "text/plain": [
       "<matplotlib.figure.Figure at 0x12738a6d8>"
      ]
     },
     "metadata": {},
     "output_type": "display_data"
    }
   ],
   "source": [
    "fake_mc = generate_fake_data(mc_spectrum, bins.min(), bins.max(), T_OBS, FACT_SCATTER_AREA.value)\n",
    "fake_crab = generate_fake_data(crab_spectrum, bins.min(), bins.max(), T_OBS, FACT_SCATTER_AREA.value)\n",
    "\n",
    "w = crab_spectrum.event_weights(fake_mc, bins.min(), bins.max(), production_spectrum=mc_spectrum, t_obs=T_OBS, area=FACT_SCATTER_AREA.value)\n",
    "\n",
    "plt.hist(fake_mc, bins=bins, histtype='step', label=f'fake mc')\n",
    "plt.hist(fake_crab, bins=bins, histtype='step', label=f'fake_crab', )\n",
    "plt.hist(fake_mc, bins=bins, histtype='step', label=f'fake mc weighted to crab', weights=w)\n",
    "plt.legend()\n",
    "plt.xscale('log')\n",
    "plt.yscale('log')"
   ]
  },
  {
   "cell_type": "code",
   "execution_count": 91,
   "metadata": {
    "ExecuteTime": {
     "end_time": "2018-02-22T19:17:23.085930Z",
     "start_time": "2018-02-22T19:17:23.062260Z"
    }
   },
   "outputs": [],
   "source": [
    "mc_spectrum = PowerLawSpectrum(index=-2.0, flux=0.01)\n",
    "N = mc_spectrum.counts_in_range(bins.min(), bins.max(), T_OBS, FACT_SCATTER_AREA.value)\n",
    "prod = {'production_index': -2.0, 'assumed_t_obs':T_OBS, 'e_max':bins.max(), 'e_min': bins.min(), 'total_showers_simulated' : N, 'scatter_area' : FACT_SCATTER_AREA.value}\n",
    "mc_spectrum_gen = PowerLawSpectrum.from_mc_production(**prod)"
   ]
  },
  {
   "cell_type": "code",
   "execution_count": 92,
   "metadata": {
    "ExecuteTime": {
     "end_time": "2018-02-22T19:17:23.512051Z",
     "start_time": "2018-02-22T19:17:23.504356Z"
    }
   },
   "outputs": [
    {
     "data": {
      "text/plain": [
       "(PowerLaw Speltrum \n",
       "  Index:-2.0 \n",
       "  Flux:0.01, PowerLaw Speltrum \n",
       "  Index:-2.0 \n",
       "  Flux:0.009999999999999998)"
      ]
     },
     "execution_count": 92,
     "metadata": {},
     "output_type": "execute_result"
    }
   ],
   "source": [
    "mc_spectrum, mc_spectrum_gen"
   ]
  },
  {
   "cell_type": "code",
   "execution_count": null,
   "metadata": {
    "collapsed": true
   },
   "outputs": [],
   "source": []
  }
 ],
 "metadata": {
  "kernelspec": {
   "display_name": "Python 3",
   "language": "python",
   "name": "python3"
  },
  "language_info": {
   "codemirror_mode": {
    "name": "ipython",
    "version": 3
   },
   "file_extension": ".py",
   "mimetype": "text/x-python",
   "name": "python",
   "nbconvert_exporter": "python",
   "pygments_lexer": "ipython3",
   "version": "3.6.4"
  }
 },
 "nbformat": 4,
 "nbformat_minor": 2
}
