{
 "cells": [
  {
   "cell_type": "code",
   "execution_count": 37,
   "metadata": {},
   "outputs": [],
   "source": [
    "%matplotlib inline\n",
    "import matplotlib.pyplot as plt\n",
    "\n",
    "import numpy as np\n",
    "import astropy.units as u\n",
    "from astropy.coordinates import Angle\n",
    "from gammapy.spectrum import SensitivityEstimator, CountsSpectrum\n",
    "from gammapy.irf import EffectiveAreaTable2D, Background2D, PSF3D, EnergyDispersion2D\n"
   ]
  },
  {
   "cell_type": "code",
   "execution_count": 38,
   "metadata": {},
   "outputs": [],
   "source": [
    "offset = Angle(\"0.0 deg\")\n",
    "\n",
    "energy_reco = np.logspace(-1.8, 1.5, 20) * u.TeV\n",
    "energy_true = np.logspace(-2, 2, 100) * u.TeV"
   ]
  },
  {
   "cell_type": "code",
   "execution_count": 39,
   "metadata": {},
   "outputs": [],
   "source": [
    "filename = ('./../cta_irf.fits')\n",
    "\n",
    "aeff = EffectiveAreaTable2D.read(filename, hdu=\"EFFECTIVE AREA\")\n",
    "bkg = Background2D.read(filename, hdu=\"BACKGROUND\")\n",
    "edisp = EnergyDispersion2D.read(filename, hdu=\"ENERGY DISPERSION\")\n",
    "psf = PSF3D.read(filename, hdu=\"PSF\")\n",
    "\n",
    "arf = aeff.to_effective_area_table(offset, energy=energy_true)\n",
    "rmf = edisp.to_energy_dispersion(\n",
    "     offset, e_true=energy_true, e_reco=energy_reco\n",
    ")\n",
    "psf = psf.to_energy_dependent_table_psf(theta=offset)\n"
   ]
  },
  {
   "cell_type": "code",
   "execution_count": 44,
   "metadata": {},
   "outputs": [
    {
     "ename": "ValueError",
     "evalue": "x must be strictly increasing",
     "output_type": "error",
     "traceback": [
      "\u001b[0;31m---------------------------------------------------------------------------\u001b[0m",
      "\u001b[0;31mValueError\u001b[0m                                Traceback (most recent call last)",
      "\u001b[0;32m<ipython-input-44-da24a81c79cc>\u001b[0m in \u001b[0;36m<module>\u001b[0;34m\u001b[0m\n\u001b[1;32m      1\u001b[0m \u001b[0mcontainment\u001b[0m \u001b[0;34m=\u001b[0m \u001b[0;36m0.68\u001b[0m\u001b[0;34m\u001b[0m\u001b[0;34m\u001b[0m\u001b[0m\n\u001b[1;32m      2\u001b[0m \u001b[0menergies\u001b[0m \u001b[0;34m=\u001b[0m \u001b[0mnp\u001b[0m\u001b[0;34m.\u001b[0m\u001b[0msqrt\u001b[0m\u001b[0;34m(\u001b[0m\u001b[0menergy_reco\u001b[0m\u001b[0;34m[\u001b[0m\u001b[0;36m1\u001b[0m\u001b[0;34m:\u001b[0m\u001b[0;34m]\u001b[0m \u001b[0;34m*\u001b[0m \u001b[0menergy_reco\u001b[0m\u001b[0;34m[\u001b[0m\u001b[0;34m:\u001b[0m\u001b[0;34m-\u001b[0m\u001b[0;36m1\u001b[0m\u001b[0;34m]\u001b[0m\u001b[0;34m)\u001b[0m\u001b[0;34m\u001b[0m\u001b[0;34m\u001b[0m\u001b[0m\n\u001b[0;32m----> 3\u001b[0;31m \u001b[0mon_radii\u001b[0m \u001b[0;34m=\u001b[0m \u001b[0mpsf\u001b[0m\u001b[0;34m.\u001b[0m\u001b[0mcontainment_radius\u001b[0m\u001b[0;34m(\u001b[0m\u001b[0menergies\u001b[0m\u001b[0;34m=\u001b[0m\u001b[0menergies\u001b[0m\u001b[0;34m,\u001b[0m \u001b[0mfraction\u001b[0m\u001b[0;34m=\u001b[0m\u001b[0mcontainment\u001b[0m\u001b[0;34m)\u001b[0m\u001b[0;34m\u001b[0m\u001b[0;34m\u001b[0m\u001b[0m\n\u001b[0m\u001b[1;32m      4\u001b[0m \u001b[0msolid_angles\u001b[0m \u001b[0;34m=\u001b[0m \u001b[0;36m2\u001b[0m \u001b[0;34m*\u001b[0m \u001b[0mnp\u001b[0m\u001b[0;34m.\u001b[0m\u001b[0mpi\u001b[0m \u001b[0;34m*\u001b[0m \u001b[0;34m(\u001b[0m\u001b[0;36m1\u001b[0m \u001b[0;34m-\u001b[0m \u001b[0mnp\u001b[0m\u001b[0;34m.\u001b[0m\u001b[0mcos\u001b[0m\u001b[0;34m(\u001b[0m\u001b[0mon_radii\u001b[0m\u001b[0;34m)\u001b[0m\u001b[0;34m)\u001b[0m \u001b[0;34m*\u001b[0m \u001b[0mu\u001b[0m\u001b[0;34m.\u001b[0m\u001b[0msr\u001b[0m\u001b[0;34m\u001b[0m\u001b[0;34m\u001b[0m\u001b[0m\n\u001b[1;32m      5\u001b[0m \u001b[0;34m\u001b[0m\u001b[0m\n",
      "\u001b[0;32m~/.envs/cta/lib/python3.7/site-packages/gammapy/irf/psf_table.py\u001b[0m in \u001b[0;36mcontainment_radius\u001b[0;34m(self, energies, fraction, interp_kwargs)\u001b[0m\n",
      "\u001b[0;32m~/.envs/cta/lib/python3.7/site-packages/gammapy/irf/psf_table.py\u001b[0m in \u001b[0;36m<listcomp>\u001b[0;34m(.0)\u001b[0m\n",
      "\u001b[0;32m~/.envs/cta/lib/python3.7/site-packages/gammapy/irf/psf_table.py\u001b[0m in \u001b[0;36mtable_psf_at_energy\u001b[0;34m(self, energy, method, **kwargs)\u001b[0m\n",
      "\u001b[0;32m~/.envs/cta/lib/python3.7/site-packages/gammapy/irf/psf_table.py\u001b[0m in \u001b[0;36m__init__\u001b[0;34m(self, rad, dp_domega, spline_kwargs)\u001b[0m\n",
      "\u001b[0;32m~/.envs/cta/lib/python3.7/site-packages/gammapy/irf/psf_table.py\u001b[0m in \u001b[0;36m_compute_splines\u001b[0;34m(self, spline_kwargs)\u001b[0m\n",
      "\u001b[0;32m~/.envs/cta/lib/python3.7/site-packages/scipy/interpolate/fitpack2.py\u001b[0m in \u001b[0;36m__init__\u001b[0;34m(self, x, y, w, bbox, k, s, ext, check_finite)\u001b[0m\n\u001b[1;32m    175\u001b[0m                                  \"NaNs or infs.\")\n\u001b[1;32m    176\u001b[0m         \u001b[0;32mif\u001b[0m \u001b[0;32mnot\u001b[0m \u001b[0mall\u001b[0m\u001b[0;34m(\u001b[0m\u001b[0mdiff\u001b[0m\u001b[0;34m(\u001b[0m\u001b[0mx\u001b[0m\u001b[0;34m)\u001b[0m \u001b[0;34m>\u001b[0m \u001b[0;36m0.0\u001b[0m\u001b[0;34m)\u001b[0m\u001b[0;34m:\u001b[0m\u001b[0;34m\u001b[0m\u001b[0;34m\u001b[0m\u001b[0m\n\u001b[0;32m--> 177\u001b[0;31m             \u001b[0;32mraise\u001b[0m \u001b[0mValueError\u001b[0m\u001b[0;34m(\u001b[0m\u001b[0;34m'x must be strictly increasing'\u001b[0m\u001b[0;34m)\u001b[0m\u001b[0;34m\u001b[0m\u001b[0;34m\u001b[0m\u001b[0m\n\u001b[0m\u001b[1;32m    178\u001b[0m \u001b[0;34m\u001b[0m\u001b[0m\n\u001b[1;32m    179\u001b[0m         \u001b[0;31m# _data == x,y,w,xb,xe,k,s,n,t,c,fp,fpint,nrdata,ier\u001b[0m\u001b[0;34m\u001b[0m\u001b[0;34m\u001b[0m\u001b[0;34m\u001b[0m\u001b[0m\n",
      "\u001b[0;31mValueError\u001b[0m: x must be strictly increasing"
     ]
    }
   ],
   "source": [
    "containment = 0.68\n",
    "energies = np.sqrt(energy_reco[1:] * energy_reco[:-1])\n",
    "on_radii = psf.containment_radius(energies=energies, fraction=containment)\n",
    "solid_angles = 2 * np.pi * (1 - np.cos(on_radii)) * u.sr\n",
    "\n",
    "arf.data.data *= containment"
   ]
  },
  {
   "cell_type": "code",
   "execution_count": null,
   "metadata": {},
   "outputs": [],
   "source": []
  }
 ],
 "metadata": {
  "kernelspec": {
   "display_name": "Python 3",
   "language": "python",
   "name": "python3"
  },
  "language_info": {
   "codemirror_mode": {
    "name": "ipython",
    "version": 3
   },
   "file_extension": ".py",
   "mimetype": "text/x-python",
   "name": "python",
   "nbconvert_exporter": "python",
   "pygments_lexer": "ipython3",
   "version": "3.7.2"
  }
 },
 "nbformat": 4,
 "nbformat_minor": 2
}
